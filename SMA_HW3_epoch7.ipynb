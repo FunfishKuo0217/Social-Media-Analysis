{
 "cells": [
  {
   "cell_type": "markdown",
   "metadata": {},
   "source": [
    "# Social Media Analysis - Airline Reviews Sentiment Analysis"
   ]
  },
  {
   "cell_type": "markdown",
   "metadata": {},
   "source": [
    "# Import Packages and Loading Data "
   ]
  },
  {
   "cell_type": "code",
   "execution_count": 2,
   "metadata": {},
   "outputs": [],
   "source": [
    "import pandas as pd\n",
    "import numpy as np\n",
    "with open('train.csv', encoding=\"utf8\", errors='ignore') as f:\n",
    "    train = pd.read_csv(f)\n",
    "with open('test.csv', encoding=\"utf8\", errors='ignore') as f:\n",
    "    test = pd.read_csv(f)\n",
    "    \n",
    "from sklearn.model_selection import train_test_split\n",
    "from tensorflow.keras.preprocessing.text import Tokenizer\n",
    "from tensorflow.keras.preprocessing.sequence import pad_sequences"
   ]
  },
  {
   "cell_type": "markdown",
   "metadata": {},
   "source": [
    "# Data Preprocessing"
   ]
  },
  {
   "cell_type": "markdown",
   "metadata": {},
   "source": [
    "1. Setting training data and validation data:\n",
    "    - random_seed = 42\n",
    "    - val_size = 0.2\n",
    "2. Preprocessing training data\n",
    "    - tokenization\n",
    "    - ensuring data with same dimention (padding)\n",
    "3. Preprocessing testing data in a same way"
   ]
  },
  {
   "cell_type": "code",
   "execution_count": 9,
   "metadata": {},
   "outputs": [
    {
     "name": "stdout",
     "output_type": "stream",
     "text": [
      "(25488,)\n",
      "(25488,)\n",
      "(3186,)\n",
      "(3186,)\n",
      "(3186,)\n",
      "(3186,)\n"
     ]
    },
    {
     "data": {
      "text/plain": [
       "(None, None)"
      ]
     },
     "execution_count": 9,
     "metadata": {},
     "output_type": "execute_result"
    }
   ],
   "source": [
    "# 1\n",
    "x_train, x_test , y_train, y_test = train_test_split(train['content'], train['category'] , test_size = 0.20)\n",
    "\n",
    "x_train, x_rem, y_train, y_rem = train_test_split(train['content'], train['category'], train_size = 0.8)\n",
    "x_val, x_test, y_val, y_test = train_test_split(x_rem, y_rem, test_size = 0.5)\n",
    "\n",
    "# map label into (0, 1, 2)\n",
    "y_train = np.array( [label + 1 for label in y_train])\n",
    "y_test = np.array([label + 1 for label in y_test])\n",
    "y_val = np.array([label + 1 for label in y_val])\n",
    "\n",
    "print(x_train.shape), print(y_train.shape)\n",
    "print(x_val.shape), print(y_val.shape)\n",
    "print(x_test.shape), print(y_test.shape)"
   ]
  },
  {
   "cell_type": "code",
   "execution_count": 10,
   "metadata": {},
   "outputs": [],
   "source": [
    "# 2 \n",
    "# tokenization\n",
    "vocab_size = 10000\n",
    "oov_token = \"<OOV>\"\n",
    "tokenizer = Tokenizer(num_words = vocab_size, oov_token = oov_token)\n",
    "tokenizer.fit_on_texts(x_train)\n",
    "word_index = tokenizer.word_index\n",
    "x_train_sequences = tokenizer.texts_to_sequences(x_train)\n",
    "x_test_sequences = tokenizer.texts_to_sequences(x_test)\n",
    "x_pad_sequences = tokenizer.texts_to_sequences(x_val)\n",
    "\n",
    "\n",
    "# Padding\n",
    "max_length = 200 \n",
    "\n",
    "padding_type = 'post'\n",
    "truncation_type = 'post'\n",
    "\n",
    "x_test_padded = pad_sequences(x_test_sequences, maxlen = max_length, padding = padding_type, truncating = truncation_type)\n",
    "x_val_padded = pad_sequences(x_pad_sequences, maxlen = max_length, padding = padding_type, truncating = truncation_type)\n",
    "x_train_padded = pad_sequences(x_train_sequences, maxlen = max_length, padding = padding_type, truncating = truncation_type)"
   ]
  },
  {
   "cell_type": "code",
   "execution_count": 11,
   "metadata": {},
   "outputs": [],
   "source": [
    "# 3 Test data\n",
    "test_dat = test['content']\n",
    "test_dat_seq = tokenizer.texts_to_sequences(test_dat)\n",
    "test_dat_padded = pad_sequences(test_dat_seq, maxlen = max_length, \n",
    "                               padding = padding_type, truncating = truncation_type)"
   ]
  },
  {
   "cell_type": "markdown",
   "metadata": {},
   "source": [
    "# Using Pre-trained Embeddings (GloVe)"
   ]
  },
  {
   "cell_type": "code",
   "execution_count": 12,
   "metadata": {},
   "outputs": [],
   "source": [
    "import os\n",
    "embeddings_index = {}\n",
    "f = open(os.path.join('glove.6B.txt/glove.6B.200d.txt'), encoding='utf8')\n",
    "for line in f:\n",
    "    values = line.split()\n",
    "    word = values[0]\n",
    "    coefs = np.asarray(values[1:], dtype = 'float32')\n",
    "    embeddings_index[word] = coefs\n",
    "f.close()"
   ]
  },
  {
   "cell_type": "code",
   "execution_count": 13,
   "metadata": {},
   "outputs": [
    {
     "name": "stdout",
     "output_type": "stream",
     "text": [
      "Words without pre-trained embedding counts 24 %\n"
     ]
    }
   ],
   "source": [
    "embedding_matrix = np.zeros((len(word_index) + 1, max_length))\n",
    "\n",
    "zeroCnt = 0\n",
    "for word, i in word_index.items():\n",
    "    embedding_vector = embeddings_index.get(word)\n",
    "    if embedding_vector is not None:\n",
    "        # words not found in embedding index will be all-zeros.\n",
    "        embedding_matrix[i] = embedding_vector\n",
    "    else:\n",
    "        zeroCnt += 1\n",
    "\n",
    "# 沒有 pretrained embedding 者佔 1/3\n",
    "print('Words without pre-trained embedding counts', int(zeroCnt/len(word_index)*100), '%')"
   ]
  },
  {
   "cell_type": "markdown",
   "metadata": {},
   "source": [
    "# Building Model"
   ]
  },
  {
   "cell_type": "markdown",
   "metadata": {},
   "source": [
    "1. Setting embedding layer"
   ]
  },
  {
   "cell_type": "code",
   "execution_count": 14,
   "metadata": {},
   "outputs": [],
   "source": [
    "from tensorflow.keras.layers import Embedding, LSTM, Dense\n",
    "\n",
    "embedding_layer = Embedding(input_dim = len(word_index) + 1,\n",
    "                            output_dim = max_length,\n",
    "                            weights = [embedding_matrix],\n",
    "                            input_length = max_length,\n",
    "                            trainable = False)"
   ]
  },
  {
   "cell_type": "markdown",
   "metadata": {},
   "source": [
    "2. Model Structure"
   ]
  },
  {
   "cell_type": "code",
   "execution_count": 15,
   "metadata": {},
   "outputs": [
    {
     "name": "stdout",
     "output_type": "stream",
     "text": [
      "Model: \"sequential\"\n",
      "_________________________________________________________________\n",
      "Layer (type)                 Output Shape              Param #   \n",
      "=================================================================\n",
      "embedding (Embedding)        (None, 200, 200)          6303800   \n",
      "_________________________________________________________________\n",
      "lstm (LSTM)                  (None, 150)               210600    \n",
      "_________________________________________________________________\n",
      "dense (Dense)                (None, 128)               19328     \n",
      "_________________________________________________________________\n",
      "dense_1 (Dense)              (None, 64)                8256      \n",
      "_________________________________________________________________\n",
      "dense_2 (Dense)              (None, 3)                 195       \n",
      "=================================================================\n",
      "Total params: 6,542,179\n",
      "Trainable params: 238,379\n",
      "Non-trainable params: 6,303,800\n",
      "_________________________________________________________________\n"
     ]
    }
   ],
   "source": [
    "from tensorflow.keras.models import Sequential\n",
    "model = Sequential([\n",
    "    embedding_layer,\n",
    "    LSTM(150, dropout = 0.2),\n",
    "    Dense(128, activation = 'relu'),\n",
    "    Dense(64, activation = 'relu'),\n",
    "    Dense(3, activation = 'softmax')\n",
    "])\n",
    "\n",
    "model.summary()"
   ]
  },
  {
   "cell_type": "markdown",
   "metadata": {},
   "source": [
    "3. Compiling model"
   ]
  },
  {
   "cell_type": "code",
   "execution_count": 17,
   "metadata": {},
   "outputs": [],
   "source": [
    "import tensorflow as tf\n",
    "model.compile(loss = tf.keras.losses.SparseCategoricalCrossentropy(from_logits = True), \n",
    "              optimizer = 'adam', metrics = ['accuracy'])"
   ]
  },
  {
   "cell_type": "markdown",
   "metadata": {},
   "source": [
    "4. Training"
   ]
  },
  {
   "cell_type": "code",
   "execution_count": 18,
   "metadata": {},
   "outputs": [
    {
     "name": "stdout",
     "output_type": "stream",
     "text": [
      "Epoch 1/7\n",
      "797/797 [==============================] - 196s 244ms/step - loss: 1.0340 - accuracy: 0.4890 - val_loss: 1.0206 - val_accuracy: 0.4991\n",
      "Epoch 2/7\n",
      "797/797 [==============================] - 194s 243ms/step - loss: 0.9311 - accuracy: 0.5748 - val_loss: 0.6485 - val_accuracy: 0.7351\n",
      "Epoch 3/7\n",
      "797/797 [==============================] - 252s 316ms/step - loss: 0.6409 - accuracy: 0.7348 - val_loss: 0.6517 - val_accuracy: 0.7348\n",
      "Epoch 4/7\n",
      "797/797 [==============================] - 208s 261ms/step - loss: 0.6032 - accuracy: 0.7545 - val_loss: 0.5930 - val_accuracy: 0.7596\n",
      "Epoch 5/7\n",
      "797/797 [==============================] - 206s 259ms/step - loss: 0.5777 - accuracy: 0.7689 - val_loss: 0.5846 - val_accuracy: 0.7655\n",
      "Epoch 6/7\n",
      "797/797 [==============================] - 203s 255ms/step - loss: 0.5552 - accuracy: 0.7759 - val_loss: 0.5901 - val_accuracy: 0.7608\n",
      "Epoch 7/7\n",
      "797/797 [==============================] - 245s 307ms/step - loss: 0.5214 - accuracy: 0.7929 - val_loss: 0.5767 - val_accuracy: 0.7715\n"
     ]
    }
   ],
   "source": [
    "from tensorflow.keras.callbacks import EarlyStopping, TensorBoard\n",
    "%load_ext tensorboard\n",
    "\n",
    "log_folder = 'logs'\n",
    "callbacks = [EarlyStopping(patience = 10), TensorBoard(log_dir = log_folder)]\n",
    "num_epochs = 7\n",
    "history = model.fit(x_train_padded, y_train, epochs = num_epochs, \n",
    "                    validation_data = (x_val_padded, y_val), callbacks = callbacks)"
   ]
  },
  {
   "cell_type": "markdown",
   "metadata": {},
   "source": [
    "5. Testing Accuracy"
   ]
  },
  {
   "cell_type": "code",
   "execution_count": 20,
   "metadata": {},
   "outputs": [
    {
     "name": "stdout",
     "output_type": "stream",
     "text": [
      "100/100 [==============================] - 11s 110ms/step - loss: 0.5835 - accuracy: 0.7611\n",
      "Test accuracy : 0.7611424922943115\n"
     ]
    }
   ],
   "source": [
    "loss, accuracy = model.evaluate(x_test_padded, y_test)\n",
    "print('Test accuracy :', accuracy)"
   ]
  },
  {
   "cell_type": "markdown",
   "metadata": {},
   "source": [
    "# Prediction"
   ]
  },
  {
   "cell_type": "code",
   "execution_count": 21,
   "metadata": {},
   "outputs": [],
   "source": [
    "probability_model = tf.keras.Sequential([model, tf.keras.layers.Softmax()])\n",
    "predictions = probability_model.predict(test_dat_padded)"
   ]
  },
  {
   "cell_type": "code",
   "execution_count": 22,
   "metadata": {},
   "outputs": [],
   "source": [
    "test_dat_pred = []\n",
    "for yhat in predictions:\n",
    "    test_dat_pred.append(np.argmax(yhat)-1)"
   ]
  },
  {
   "cell_type": "code",
   "execution_count": 31,
   "metadata": {},
   "outputs": [],
   "source": [
    "pd.DataFrame(test_dat_pred).to_csv('result.csv', header = False, index = False)"
   ]
  }
 ],
 "metadata": {
  "kernelspec": {
   "display_name": "Python 3",
   "language": "python",
   "name": "python3"
  },
  "language_info": {
   "codemirror_mode": {
    "name": "ipython",
    "version": 3
   },
   "file_extension": ".py",
   "mimetype": "text/x-python",
   "name": "python",
   "nbconvert_exporter": "python",
   "pygments_lexer": "ipython3",
   "version": "3.7.6"
  }
 },
 "nbformat": 4,
 "nbformat_minor": 4
}
